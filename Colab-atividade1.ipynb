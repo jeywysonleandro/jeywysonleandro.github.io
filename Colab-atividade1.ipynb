{
  "cells": [
    {
      "cell_type": "markdown",
      "metadata": {
        "id": "view-in-github",
        "colab_type": "text"
      },
      "source": [
        "<a href=\"https://colab.research.google.com/github/jeywysonleandro/jeywysonleandro.github.io/blob/main/Colab-atividade1.ipynb\" target=\"_parent\"><img src=\"https://colab.research.google.com/assets/colab-badge.svg\" alt=\"Open In Colab\"/></a>"
      ]
    },
    {
      "cell_type": "markdown",
      "source": [
        "Lista de Exercício 1 - PLP Unifavip 2022.2"
      ],
      "metadata": {
        "id": "wZaYQeEOwbul"
      }
    },
    {
      "cell_type": "code",
      "source": [
        "print (\"Alunos - PLP Unifavip 2022.2\")"
      ],
      "metadata": {
        "colab": {
          "base_uri": "https://localhost:8080/"
        },
        "id": "nMhTtDifwfzU",
        "outputId": "c30dbe97-d59b-4ab7-def6-9fdadfdc1f9f"
      },
      "execution_count": 1,
      "outputs": [
        {
          "output_type": "stream",
          "name": "stdout",
          "text": [
            "Alunos - PLP Unifavip 2022.2\n"
          ]
        }
      ]
    },
    {
      "cell_type": "code",
      "source": [
        "# Exercício 2\n",
        "entrada = input(\"Digite um número: \")\n",
        "print(\"O número informado foi\", entrada)\n"
      ],
      "metadata": {
        "colab": {
          "base_uri": "https://localhost:8080/"
        },
        "id": "EUOT7Jvwwrg0",
        "outputId": "adc92d2e-53de-4005-f5c9-4aa32f531d71"
      },
      "execution_count": 8,
      "outputs": [
        {
          "output_type": "stream",
          "name": "stdout",
          "text": [
            "Digite um número: 10\n",
            "O número informado foi 10\n"
          ]
        }
      ]
    },
    {
      "cell_type": "code",
      "source": [
        "# Exercício 3\n",
        "a_texto = input(\"Digite o primeiro número: \")\n",
        "b_texto = input(\"Digite o segundo número: \")\n",
        "\n",
        "a = float(a_texto.replace(',', '.').strip())\n",
        "b = float(b_texto.replace(',', '.').strip())\n",
        "\n",
        "soma = a + b\n",
        "print(f\"A soma de {a} e {b} é {soma}\")\n"
      ],
      "metadata": {
        "colab": {
          "base_uri": "https://localhost:8080/"
        },
        "id": "tH3hZkoN2FPq",
        "outputId": "c3b600f2-843c-4400-fab2-0a58de3f5f02"
      },
      "execution_count": 20,
      "outputs": [
        {
          "output_type": "stream",
          "name": "stdout",
          "text": [
            "Digite o primeiro número: 10\n",
            "Digite o segundo número: 20\n",
            "A soma de 10.0 e 20.0 é 30.0\n"
          ]
        }
      ]
    },
    {
      "cell_type": "code",
      "source": [
        "# Exercício 4\n",
        "n1 = float(input(\"Digite a nota 1: \").replace(',', '.').strip())\n",
        "n2 = float(input(\"Digite a nota 2: \").replace(',', '.').strip())\n",
        "n3 = float(input(\"Digite a nota 3: \").replace(',', '.').strip())\n",
        "n4 = float(input(\"Digite a nota 4: \").replace(',', '.').strip())\n",
        "\n",
        "media = (n1 + n2 + n3 + n4) / 4\n",
        "\n",
        "print(f\"Média: {media:.2f}\")\n"
      ],
      "metadata": {
        "colab": {
          "base_uri": "https://localhost:8080/"
        },
        "id": "9ebShAx03G7e",
        "outputId": "d24a8e99-3d35-4e86-98a0-b4ee0d9e9207"
      },
      "execution_count": 26,
      "outputs": [
        {
          "output_type": "stream",
          "name": "stdout",
          "text": [
            "Digite a nota 1: 6\n",
            "Digite a nota 2: 7\n",
            "Digite a nota 3: 4\n",
            "Digite a nota 4: 10\n",
            "Média: 6.75\n"
          ]
        }
      ]
    },
    {
      "cell_type": "code",
      "source": [
        "# Exercício 5\n",
        "metros = float(input(\"Digite o valor em metros: \").replace(',', '.').strip())\n",
        "\n",
        "centimetros = metros * 100\n",
        "\n",
        "print(f\"{metros} metros equivalem a {centimetros} centímetros.\")"
      ],
      "metadata": {
        "colab": {
          "base_uri": "https://localhost:8080/"
        },
        "id": "eDGmu7Fp5obI",
        "outputId": "3128e8a0-f5e5-4ea9-9884-b515b0e7c31d"
      },
      "execution_count": 27,
      "outputs": [
        {
          "output_type": "stream",
          "name": "stdout",
          "text": [
            "Digite o valor em metros: 10\n",
            "10.0 metros equivalem a 1000.0 centímetros.\n"
          ]
        }
      ]
    },
    {
      "cell_type": "code",
      "source": [
        "# Exercício 6\n",
        "import math\n",
        "raio = float(input(\"Digite o raio do círculo: \").replace(',', '.').strip())\n",
        "area = math.pi * (raio ** 2)\n",
        "print(f\"Área do círculo: {area:.4f}\")\n"
      ],
      "metadata": {
        "id": "mw36hXuQ7BND",
        "outputId": "b13dff07-13e1-4921-9f5e-d78d60160859",
        "colab": {
          "base_uri": "https://localhost:8080/"
        }
      },
      "execution_count": 35,
      "outputs": [
        {
          "output_type": "stream",
          "name": "stdout",
          "text": [
            "Digite o raio do círculo: 2\n",
            "Área do círculo: 12.5664\n"
          ]
        }
      ]
    },
    {
      "cell_type": "code",
      "source": [
        "# Exercício 7\n",
        "lado = float(input(\"Digite o lado do quadrado: \").replace(',', '.').strip())\n",
        "area = lado ** 2\n",
        "dobro_area = 2 * area\n",
        "print(f\"Área = {area:.2f}. O dobro da área = {dobro_area:.2f}\")\n"
      ],
      "metadata": {
        "id": "ikaKaRgE7Kup",
        "outputId": "d1fcc093-613a-44cd-98e5-faeeecdfe156",
        "colab": {
          "base_uri": "https://localhost:8080/"
        }
      },
      "execution_count": 36,
      "outputs": [
        {
          "output_type": "stream",
          "name": "stdout",
          "text": [
            "Digite o lado do quadrado: 4\n",
            "Área = 16.00. O dobro da área = 32.00\n"
          ]
        }
      ]
    },
    {
      "cell_type": "code",
      "source": [
        "# Exercício 8\n",
        "valor_hora = float(input(\"Quanto você ganha por hora (R$): \").replace(',', '.').strip())\n",
        "horas = float(input(\"Horas trabalhadas no mês: \").replace(',', '.').strip())\n",
        "salario = valor_hora * horas\n",
        "print(f\"Salário do mês: R$ {salario:.2f}\")\n"
      ],
      "metadata": {
        "id": "bUwNNLSu772o",
        "outputId": "0c6701f1-d413-474c-db50-cb1368dbf048",
        "colab": {
          "base_uri": "https://localhost:8080/"
        }
      },
      "execution_count": 37,
      "outputs": [
        {
          "output_type": "stream",
          "name": "stdout",
          "text": [
            "Quanto você ganha por hora (R$): 34\n",
            "Horas trabalhadas no mês: 160\n",
            "Salário do mês: R$ 5440.00\n"
          ]
        }
      ]
    },
    {
      "cell_type": "code",
      "source": [
        "# Exercício 9\n",
        "f = float(input(\"Temperatura em Fahrenheit: \").replace(',', '.').strip())\n",
        "c = (f - 32) * 5 / 9\n",
        "print(f\"{f}°F = {c:.2f}°C\")\n"
      ],
      "metadata": {
        "id": "T0glcFQC8dGP",
        "outputId": "160dc3e0-0c5a-4214-fe59-80579707319f",
        "colab": {
          "base_uri": "https://localhost:8080/"
        }
      },
      "execution_count": 39,
      "outputs": [
        {
          "output_type": "stream",
          "name": "stdout",
          "text": [
            "Temperatura em Fahrenheit: 60\n",
            "60.0°F = 15.56°C\n"
          ]
        }
      ]
    },
    {
      "cell_type": "code",
      "source": [
        "# Exercício 10\n",
        "c = float(input(\"Temperatura em Celsius: \").replace(',', '.').strip())\n",
        "f = c * 9 / 5 + 32\n",
        "print(f\"{c}°C = {f:.2f}°F\")\n"
      ],
      "metadata": {
        "id": "1a3qFvjZ8vzb",
        "outputId": "e8ce0044-053a-418f-b678-70f67ae0b7a6",
        "colab": {
          "base_uri": "https://localhost:8080/"
        }
      },
      "execution_count": 40,
      "outputs": [
        {
          "output_type": "stream",
          "name": "stdout",
          "text": [
            "Temperatura em Celsius: 35\n",
            "35.0°C = 95.00°F\n"
          ]
        }
      ]
    }
  ],
  "metadata": {
    "colab": {
      "name": "Conheça o Colab",
      "toc_visible": true,
      "provenance": [],
      "include_colab_link": true
    },
    "kernelspec": {
      "display_name": "Python 3",
      "name": "python3"
    }
  },
  "nbformat": 4,
  "nbformat_minor": 0
}